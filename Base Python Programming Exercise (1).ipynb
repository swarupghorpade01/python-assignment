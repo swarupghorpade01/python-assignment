{
 "cells": [
  {
   "cell_type": "markdown",
   "metadata": {},
   "source": [
    "## Python Basic Programming Exercises"
   ]
  },
  {
   "cell_type": "raw",
   "metadata": {
    "vscode": {
     "languageId": "raw"
    }
   },
   "source": [
    "Q1: What is the output of following expression\n",
    "    5 + 4 * 9 % (3 + 1) / 6 - 1"
   ]
  },
  {
   "cell_type": "code",
   "execution_count": null,
   "metadata": {},
   "outputs": [],
   "source": [
    "expression_result = 5 + 4 * 9 % (3 + 1) / 6 - 1\n",
    "print(\"The result of the expression is:\", expression_result)"
   ]
  },
  {
   "cell_type": "raw",
   "metadata": {},
   "source": [
    "Q2: Write a program to check if a Number is Odd or Even. Take number as a input from user at runtime."
   ]
  },
  {
   "cell_type": "code",
   "execution_count": null,
   "metadata": {},
   "outputs": [],
   "source": [
    "number = int(input(\"Enter a number: \"))\n",
    "if number % 2 == 0:\n",
    "    print(f\"{number} is an even number.\")\n",
    "else:\n",
    "    print(f\"{number} is an odd number.\")\n"
   ]
  },
  {
   "cell_type": "raw",
   "metadata": {},
   "source": [
    "Q3: Write a program to display the multiplication table by taking a number as input. \n",
    "    [Hint : Use print statement inside of a loop]"
   ]
  },
  {
   "cell_type": "code",
   "execution_count": null,
   "metadata": {},
   "outputs": [],
   "source": [
    "number = int(input(\"Enter a number: \"))\n",
    "print(f\"Multiplication Table for {number}:\")\n",
    "for i in range(1, 11):\n",
    "    result = number * i\n",
    "    print(f\"{number} x {i} = {result}\")\n"
   ]
  },
  {
   "cell_type": "raw",
   "metadata": {},
   "source": [
    "Q4: Write a program which will find all numbers between 2000 and 3200 which are divisible by 7 \n",
    "    but are not a multiple of 5.\n",
    " \n",
    "Note: The numbers obtained should be printed in a comma-separated sequence on a single line."
   ]
  },
  {
   "cell_type": "code",
   "execution_count": null,
   "metadata": {},
   "outputs": [],
   "source": [
    "result = []\n",
    "for number in range(2000, 3201):\n",
    "    if number % 7 == 0 and number % 5 != 0:\n",
    "        result.append(str(number))\n",
    "print(\", \".join(result))\n"
   ]
  },
  {
   "cell_type": "raw",
   "metadata": {},
   "source": [
    "Q5: Count the elements of each datatype inside the list and display in output\n",
    "    [2, 3, 'Py', '10', 1, 'SQL', 5.5, True, 3, 'John', None, 7]    "
   ]
  },
  {
   "cell_type": "code",
   "execution_count": null,
   "metadata": {},
   "outputs": [],
   "source": [
    "data = [2, 3, 'Py', '10', 1, 'SQL', 5.5, True, 3, 'John', None, 7]\n",
    "type_count = {}\n",
    "for element in data:\n",
    "    element_type = type(element)\n",
    "    if element_type in type_count:\n",
    "        type_count[element_type] += 1\n",
    "    else:\n",
    "        type_count[element_type] = 1\n",
    "for t, count in type_count.items():\n",
    "    print(f\"{t.__name__}: {count}\")\n"
   ]
  },
  {
   "cell_type": "raw",
   "metadata": {},
   "source": [
    "Q6: Add all values from the list with numeric datatypes \n",
    "    [2, 3, 'Py', '10', 1, 'SQL', 5.5, True, 3, 'John', None, 7] "
   ]
  },
  {
   "cell_type": "code",
   "execution_count": null,
   "metadata": {},
   "outputs": [],
   "source": [
    "\n",
    "data = [2, 3, 'Py', '10', 1, 'SQL', 5.5, True, 3, 'John', None, 7]\n",
    "total_sum = 0\n",
    "for element in data:\n",
    "    if isinstance(element, (int, float, bool)):\n",
    "        total_sum += element\n",
    "print(\"Sum of numeric values:\", total_sum)\n"
   ]
  },
  {
   "cell_type": "raw",
   "metadata": {},
   "source": [
    "Q7: Concat all str datatypes with hyphen as a delimiter\n",
    "    [2, 3, 'Py', '10', 1, 'SQL', 5.5, True, 3, 'John', None, 7] "
   ]
  },
  {
   "cell_type": "code",
   "execution_count": null,
   "metadata": {},
   "outputs": [],
   "source": [
    "data = [2, 3, 'Py', '10', 1, 'SQL', 5.5, True, 3, 'John', None, 7]\n",
    "string_elements = [str(element) for element in data if isinstance(element, str)]\n",
    "result = \"-\".join(string_elements)\n",
    "print(\"Concatenated string:\", result)\n"
   ]
  },
  {
   "cell_type": "raw",
   "metadata": {},
   "source": [
    "Q8 Get only odd numbers from the following list and store the numbers in new list\n",
    "    li = [5, 7, 22, 97, 54, 62, 77, 23, 73, 61]\n",
    "\n",
    "    i. Use loops to get the answer\n",
    "   ii. Use list comprehensions\n",
    "  iii. Use lambda function with filter"
   ]
  },
  {
   "cell_type": "code",
   "execution_count": null,
   "metadata": {},
   "outputs": [],
   "source": [
    "li = [5, 7, 22, 97, 54, 62, 77, 23, 73, 61]\n",
    "odd_numbers = []\n",
    "for num in li:\n",
    "    if num % 2 != 0:\n",
    "        odd_numbers.append(num)\n",
    "print(\"Odd numbers using loops:\", odd_numbers)\n",
    "\n",
    "odd_numbers_comprehension = [num for num in li if num % 2 != 0]\n",
    "print(\"Odd numbers using list comprehension:\", odd_numbers_comprehension)\n",
    "\n",
    "odd_numbers_lambda = list(filter(lambda num: num % 2 != 0, li))\n",
    "print(\"Odd numbers using lambda and filter:\", odd_numbers_lambda)\n"
   ]
  },
  {
   "cell_type": "raw",
   "metadata": {},
   "source": [
    "Q9: Write an udf to calculate the area of different shapes\n",
    "\n",
    "Take shape and dimensions as arguments to udf as follows : \n",
    "\n",
    "1. square which has side\n",
    "2. rectangle which has length and width\n",
    "3. circle which has radius\n",
    "\n",
    "The shape should be a positional argument and it's dimensions are taken as kwargs\n",
    "\n",
    "Perform proper validation for the user inputs and then calculate area.\n",
    "\n",
    "E.g. if shape is square, ensure kwargs has \"side\" and if so, then you may return the area, else display appropriate error message like \"Please enter 'side' for a square\""
   ]
  },
  {
   "cell_type": "code",
   "execution_count": null,
   "metadata": {},
   "outputs": [],
   "source": [
    "\n",
    "    def calculate_area(shape, **kwargs):\n",
    "    # Convert shape input to lowercase to handle case sensitivity\n",
    "    shape = shape.lower()\n",
    "    \n",
    "    # Check for square and its required 'side' argument\n",
    "    if shape == \"square\":\n",
    "        if \"side\" in kwargs:\n",
    "            side = kwargs['side']\n",
    "            if isinstance(side, (int, float)) and side > 0:\n",
    "                return side * side\n",
    "            else:\n",
    "                return \"Please enter a valid positive number for 'side'.\"\n",
    "        else:\n",
    "            return \"Please enter 'side' for a square.\"\n",
    "    \n",
    "    # Check for rectangle and its required 'length' and 'width' arguments\n",
    "    elif shape == \"rectangle\":\n",
    "        if \"length\" in kwargs and \"width\" in kwargs:\n",
    "            length = kwargs['length']\n",
    "            width = kwargs['width']\n",
    "            if all(isinstance(x, (int, float)) and x > 0 for x in (length, width)):\n",
    "                return length * width\n",
    "            else:\n",
    "                return \"Please enter valid positive numbers for 'length' and 'width'.\"\n",
    "        else:\n",
    "            return \"Please enter both 'length' and 'width' for a rectangle.\"\n",
    "    \n",
    "    # Check for circle and its required 'radius' argument\n",
    "    elif shape == \"circle\":\n",
    "        if \"radius\" in kwargs:\n",
    "            radius = kwargs['radius']\n",
    "            if isinstance(radius, (int, float)) and radius > 0:\n",
    "                return 3.14159 * radius * radius\n",
    "            else:\n",
    "                return \"Please enter a valid positive number for 'radius'.\"\n",
    "        else:\n",
    "            return \"Please enter 'radius' for a circle.\"\n",
    "    \n",
    "    # If the shape is not recognized\n",
    "    else:\n",
    "        return \"Unsupported shape! Please choose either 'square', 'rectangle', or 'circle'.\"\n",
    "\n",
    "# Example usages:\n",
    "\n",
    "# Valid square input\n",
    "print(calculate_area(\"square\", side=5))\n",
    "\n",
    "# Missing 'side' for square\n",
    "print(calculate_area(\"square\"))\n",
    "\n",
    "# Valid rectangle input\n",
    "print(calculate_area(\"rectangle\", length=4, width=8))\n",
    "\n",
    "# Missing 'width' for rectangle\n",
    "print(calculate_area(\"rectangle\", length=4))\n",
    "\n",
    "# Valid circle input\n",
    "print(calculate_area(\"circle\", radius=7))\n",
    "\n",
    "# Invalid radius for circle\n",
    "print(calculate_area(\"circle\", radius=-7))\n",
    "\n",
    "# Unsupported shape\n",
    "print(calculate_area(\"triangle\", base=10, height=5))\n"
   ]
  },
  {
   "cell_type": "raw",
   "metadata": {
    "collapsed": true,
    "jupyter": {
     "outputs_hidden": true
    }
   },
   "source": [
    "Q10: write a UDF to check if a number is prime or not."
   ]
  },
  {
   "cell_type": "raw",
   "metadata": {
    "collapsed": true,
    "jupyter": {
     "outputs_hidden": true
    },
    "vscode": {
     "languageId": "raw"
    }
   },
   "source": [
    "\n",
    "def is_prime(number):\n",
    "    \"\"\"Check if a number is prime.\"\"\"\n",
    "    if not isinstance(number, int) or number < 2:\n",
    "        return f\"{number} is not a prime number. Please enter an integer greater than 1.\"\n",
    "    \n",
    "    for i in range(2, int(number**0.5) + 1):\n",
    "        if number % i == 0:\n",
    "            return f\"{number} is not a prime number.\"\n",
    "    \n",
    "    return f\"{number} is a prime number.\""
   ]
  },
  {
   "cell_type": "raw",
   "metadata": {
    "collapsed": true,
    "jupyter": {
     "outputs_hidden": true
    }
   },
   "source": [
    "Q11. Write a program that takes a string and returns reversed string. i.e. if input is \"abcd123\" output should be \"321dcba\""
   ]
  },
  {
   "cell_type": "code",
   "execution_count": null,
   "metadata": {},
   "outputs": [],
   "source": [
    "def reverse_string(input_string):\n",
    "    reversed_string = input_string[::-1]\n",
    "    return reversed_string\n",
    "user_input = input(\"Enter a string: \")\n",
    "output = reverse_string(user_input)\n",
    "print(\"Reversed string:\", output)\n"
   ]
  },
  {
   "cell_type": "code",
   "execution_count": null,
   "metadata": {},
   "outputs": [],
   "source": []
  }
 ],
 "metadata": {
  "kernelspec": {
   "display_name": "Python 3 (ipykernel)",
   "language": "python",
   "name": "python3"
  },
  "language_info": {
   "codemirror_mode": {
    "name": "ipython",
    "version": 3
   },
   "file_extension": ".py",
   "mimetype": "text/x-python",
   "name": "python",
   "nbconvert_exporter": "python",
   "pygments_lexer": "ipython3",
   "version": "3.12.4"
  },
  "varInspector": {
   "cols": {
    "lenName": 16,
    "lenType": 16,
    "lenVar": 40
   },
   "kernels_config": {
    "python": {
     "delete_cmd_postfix": "",
     "delete_cmd_prefix": "del ",
     "library": "var_list.py",
     "varRefreshCmd": "print(var_dic_list())"
    },
    "r": {
     "delete_cmd_postfix": ") ",
     "delete_cmd_prefix": "rm(",
     "library": "var_list.r",
     "varRefreshCmd": "cat(var_dic_list()) "
    }
   },
   "types_to_exclude": [
    "module",
    "function",
    "builtin_function_or_method",
    "instance",
    "_Feature"
   ],
   "window_display": false
  }
 },
 "nbformat": 4,
 "nbformat_minor": 4
}
